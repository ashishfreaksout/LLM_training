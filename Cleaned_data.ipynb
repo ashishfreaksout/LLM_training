{
 "cells": [
  {
   "cell_type": "markdown",
   "id": "2b6758a7",
   "metadata": {},
   "source": [
    "# Removing Missing Values and cleaning data"
   ]
  },
  {
   "cell_type": "code",
   "execution_count": 32,
   "id": "cfc82244",
   "metadata": {
    "scrolled": true
   },
   "outputs": [
    {
     "name": "stdout",
     "output_type": "stream",
     "text": [
      "   Order        PID  MS SubClass MS Zoning  Lot Frontage  Lot Area Street  \\\n",
      "0      1  526301100           20        RL         141.0     31770   Pave   \n",
      "1      2  526350040           20        RH          80.0     11622   Pave   \n",
      "2      3  526351010           20        RL          81.0     14267   Pave   \n",
      "3      4  526353030           20        RL          93.0     11160   Pave   \n",
      "4      5  527105010           60        RL          74.0     13830   Pave   \n",
      "\n",
      "  Alley Lot Shape Land Contour  ... Pool Area Pool QC  Fence Misc Feature  \\\n",
      "0   NaN       IR1          Lvl  ...         0     NaN    NaN          NaN   \n",
      "1   NaN       Reg          Lvl  ...         0     NaN  MnPrv          NaN   \n",
      "2   NaN       IR1          Lvl  ...         0     NaN    NaN         Gar2   \n",
      "3   NaN       Reg          Lvl  ...         0     NaN    NaN          NaN   \n",
      "4   NaN       IR1          Lvl  ...         0     NaN  MnPrv          NaN   \n",
      "\n",
      "  Misc Val Mo Sold Yr Sold Sale Type  Sale Condition  SalePrice  \n",
      "0        0       5    2010       WD           Normal     215000  \n",
      "1        0       6    2010       WD           Normal     105000  \n",
      "2    12500       6    2010       WD           Normal     172000  \n",
      "3        0       4    2010       WD           Normal     244000  \n",
      "4        0       3    2010       WD           Normal     189900  \n",
      "\n",
      "[5 rows x 82 columns]\n"
     ]
    }
   ],
   "source": [
    "import pandas as pd\n",
    "from sklearn.preprocessing import MinMaxScaler\n",
    "\n",
    "df = pd.read_csv(r'C:\\Users\\test\\Downloads\\AmesHousing.csv')\n",
    "\n",
    "# Display the first few rows\n",
    "print(df.head())\n"
   ]
  },
  {
   "cell_type": "code",
   "execution_count": 33,
   "id": "434127cf",
   "metadata": {},
   "outputs": [],
   "source": [
    "# Remove duplicate rows\n",
    "df = df.drop_duplicates()\n"
   ]
  },
  {
   "cell_type": "code",
   "execution_count": 34,
   "id": "faab189c",
   "metadata": {},
   "outputs": [],
   "source": [
    "#Convert object columns with < 50 unique values to 'category'\n",
    "for col in df.select_dtypes(include='object').columns:\n",
    "    if df[col].nunique() < 50:\n",
    "        df[col] = df[col].astype('category')"
   ]
  },
  {
   "cell_type": "code",
   "execution_count": 35,
   "id": "e80e4591",
   "metadata": {},
   "outputs": [],
   "source": [
    "#Normalize numeric columns using MinMaxScaler\n",
    "numeric_cols = df.select_dtypes(include=['int64', 'float64']).columns"
   ]
  },
  {
   "cell_type": "code",
   "execution_count": 36,
   "id": "4d2fe3b4",
   "metadata": {},
   "outputs": [],
   "source": [
    "# Exclude ID-like or encoded categorical numeric columns\n",
    "exclude_cols = ['Order', 'PID', 'MS SubClass', 'Mo Sold', 'Yr Sold']\n",
    "normalize_cols = [col for col in numeric_cols if col not in exclude_cols]"
   ]
  },
  {
   "cell_type": "code",
   "execution_count": 38,
   "id": "6c78247e",
   "metadata": {},
   "outputs": [],
   "source": [
    "# Fill missing values in the normalization columns\n",
    "df[normalize_cols] = df[normalize_cols].fillna(df[normalize_cols].mean())\n",
    "# Apply Min-Max normalization\n",
    "scaler = MinMaxScaler()\n",
    "df[normalize_cols] = scaler.fit_transform(df[normalize_cols])"
   ]
  },
  {
   "cell_type": "code",
   "execution_count": 40,
   "id": "9fc3c9e7",
   "metadata": {},
   "outputs": [
    {
     "name": "stdout",
     "output_type": "stream",
     "text": [
      "   Order        PID  MS SubClass MS Zoning  Lot Frontage  Lot Area Street  \\\n",
      "0      1  526301100           20        RL      0.410959  0.142420   Pave   \n",
      "1      2  526350040           20        RH      0.202055  0.048246   Pave   \n",
      "2      3  526351010           20        RL      0.205479  0.060609   Pave   \n",
      "3      4  526353030           20        RL      0.246575  0.046087   Pave   \n",
      "4      5  527105010           60        RL      0.181507  0.058566   Pave   \n",
      "\n",
      "  Alley Lot Shape Land Contour  ... Pool Area Pool QC  Fence Misc Feature  \\\n",
      "0   NaN       IR1          Lvl  ...       0.0     NaN    NaN          NaN   \n",
      "1   NaN       Reg          Lvl  ...       0.0     NaN  MnPrv          NaN   \n",
      "2   NaN       IR1          Lvl  ...       0.0     NaN    NaN         Gar2   \n",
      "3   NaN       Reg          Lvl  ...       0.0     NaN    NaN          NaN   \n",
      "4   NaN       IR1          Lvl  ...       0.0     NaN  MnPrv          NaN   \n",
      "\n",
      "   Misc Val Mo Sold Yr Sold Sale Type  Sale Condition  SalePrice  \n",
      "0  0.000000       5    2010       WD           Normal   0.272444  \n",
      "1  0.000000       6    2010       WD           Normal   0.124238  \n",
      "2  0.735294       6    2010       WD           Normal   0.214509  \n",
      "3  0.000000       4    2010       WD           Normal   0.311517  \n",
      "4  0.000000       3    2010       WD           Normal   0.238626  \n",
      "\n",
      "[5 rows x 82 columns]\n"
     ]
    }
   ],
   "source": [
    "#Save cleaned data\n",
    "df.to_csv('cleaned_data.csv', index=False)\n",
    "print(df.head())\n"
   ]
  }
 ],
 "metadata": {
  "kernelspec": {
   "display_name": "Python 3",
   "language": "python",
   "name": "python3"
  },
  "language_info": {
   "codemirror_mode": {
    "name": "ipython",
    "version": 3
   },
   "file_extension": ".py",
   "mimetype": "text/x-python",
   "name": "python",
   "nbconvert_exporter": "python",
   "pygments_lexer": "ipython3",
   "version": "3.7.3"
  }
 },
 "nbformat": 4,
 "nbformat_minor": 5
}
